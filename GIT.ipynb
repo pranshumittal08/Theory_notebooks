{
 "cells": [
  {
   "cell_type": "markdown",
   "metadata": {},
   "source": [
    "It is a distributed version control system used to keep track of code change history.  It is free, open source, scalable and superfast.  "
   ]
  },
  {
   "cell_type": "markdown",
   "metadata": {},
   "source": [
    "### Commands to update the global configurations\n",
    "\n",
    "1. username - <code>git config --global user.name \"pranshu\" </code>\n",
    "2. email_id - <code>git config --global user.email \"pranshu.mittal08@gmail.com\" </code>\n",
    "3. code-editor - <code>git config --global code.editor \"core --wait\"</code>\n",
    "4. Get config file - <code>git config --global -e </code>\n"
   ]
  },
  {
   "cell_type": "markdown",
   "metadata": {},
   "source": [
    "#### HELP: \n",
    "<code>git config -help/-h<\\code>"
   ]
  },
  {
   "cell_type": "markdown",
   "metadata": {},
   "source": [
    "### Handling end of line characters\n",
    "\n",
    "- EOL characters in windows - \"\\r\",\"\\n\"\n",
    "- EOL in MacOS - \"\\n\"\n",
    " \n",
    " When someone working on windows system pushes code onto github, github should remove carriage return or  \"\\r\" charcter and vice versa. Similarly if someone is working on Mac, they do not want the \"\\r\" char so git shouldn't remove EOL character. Also if by accident CR char is added to the EOL then git should again remain the same. In short for Mac users, git should update EOL character only when the code is being pushed onto the repository.\n",
    " <img src = \"Images/autocrlf.PNG\">\n",
    "- Windows cmd: <code>git config --global core.autocrlf true<\\code>\n",
    "- Mac cmd: <code>git config --global core.autocrlf input<\\code>"
   ]
  },
  {
   "cell_type": "markdown",
   "metadata": {},
   "source": [
    "#### Remove or delete local git repostiory\n",
    "\n",
    "<code>rm -rf .git<\\code>"
   ]
  },
  {
   "cell_type": "markdown",
   "metadata": {},
   "source": [
    "#### Workflow\n",
    "\n",
    "<b>codebase -> staging area -> commit</b>\n",
    "    \n",
    "#### Staging area\n",
    "    \n",
    "Intermediate stage where the files ready to be commited are placed. Files can also be removed from this stage. This is done by using the command - <code>git add file_name</code >\n",
    "The staging area allows us to review the changes before making a final commit. \n",
    "- If there is a file in the staging area but before commiting we decide to remove the file from the directory, then once the file is removed we can again give the command <code>git add file_name</code> to remove this file from the staging area as git will now that the file is no longer in the directory.<br>\n",
    "\n",
    "<b>Note</b>Files removed from the working directory are still present in the staging area thus we manually need to stage this change for commit. Before the deleted file is staged it can be retrieved and restored from the staging area.\n",
    "\n",
    "##### Removing files from the stagin area\n",
    "\n",
    "<code>git rm -r --cached file_name(s)</code><br>\n",
    "-r is to recursively remove all files.<br>\n",
    "we can also use . to remove all files at once instead of using file_names\n",
    "\n",
    "\n",
    "##### Removing file directly from staging as well as directory\n",
    "<code>git rm file_name(s)</code><br>"
   ]
  },
  {
   "cell_type": "markdown",
   "metadata": {},
   "source": [
    "#### Commiting a file\n",
    "\n",
    "<code>git commit -m \"initial commit\"</code>\n",
    "\n",
    "- If we want to commit directly without staging the files we can use the command<br>\n",
    "<code>git commit -am \"second commit\"</code>"
   ]
  },
  {
   "cell_type": "markdown",
   "metadata": {},
   "source": [
    "### Create a file\n",
    "The below cmd also writes text to the file\n",
    "<code>echo hello > file1.txt</code>\n",
    "\n",
    "<em>In order to append text to an existing file we use \">>\" instead of \">\" symbol.</em>"
   ]
  },
  {
   "cell_type": "markdown",
   "metadata": {},
   "source": [
    "#### Renaming files\n",
    "1.Option 1:\n",
    "<code>mv file.txt file3.txt</code>\n",
    "\n",
    "\n",
    "Since git does not automatically starts tracking files we need to first remove the older file from the staging area and then add the renamed file to it.\n",
    "\n",
    "2. Option 2: <code>mv file3.txt file.txt</code>\n",
    "\n",
    "\n",
    "Using git mv removes the overhead of making manual changes in the staging area."
   ]
  },
  {
   "cell_type": "markdown",
   "metadata": {},
   "source": [
    "#### Ignoring certain files\n",
    "\n",
    "we can prevent some files from being tracked by creating a file named .gitignore. Inside the file we mention the names of the files to be ignored.<br>\n",
    "\n",
    "<em>Note: A file or directory already being tracked by git would not be ignored if we add its path to the .gitignore file. We will manually have to remove that file or directory from the staging area using the command<br></em>\n",
    "    <code>git rm --cached directory/fileName</code>\n",
    "Then again we will need to commit the changes i.e. deletion of the file we want to ignore from the staging area."
   ]
  },
  {
   "cell_type": "markdown",
   "metadata": {},
   "source": [
    "#### Short Status\n",
    "\n",
    "<code>git status -s</code> is used to make the status report precise instead of verbose.\n",
    "\n",
    "#### Get the difference between files\n",
    "\n",
    "<code>git diff --staged</code>\n",
    "\n",
    "\n",
    " <img src = \"Images/git_diff.png\">\n",
    " \n",
    "- Comparing a/file1.js (older copy) with b/file1.js (newer_copy).\n",
    "\n",
    "- Changes in the old copy are indicated by - sign whereas changes in the later are indicated by + sign.\n",
    "\n",
    "- If the files are small git will not show the entire files instead it will divide the files into chunks and show only the chunk which is modified.\n",
    "\n",
    "- The header starts with @@. The first section -1,3 gives us the information about the first file whereas the second gives the info about the second file. In the given example 3 lines from older copy are extracted and shown here whereas in the new copy 5 lines are extracted and displayed. \n",
    "\n",
    "- The green colored lines is the information added whereas red colored lines are the ones removed from the old file. \n",
    "\n",
    "- <code>git diff</code> returns the unstaged changes.\n",
    "\n",
    "Below are the commands for using vscode to better visualize the file differences.\n",
    "\n",
    "<code>git config --global diff.tool vscode</code>\n",
    "\n",
    "<code>git config --global difftool.vscode.cmd \"code --wait --diff $LOCAL $REMOTE</code>\n",
    "\n",
    "<code>git config --global -e</code>\n",
    "\n",
    "<code>git difftool</code> - unstaged\n",
    "\n",
    "<code>git difftool --staged</code> - staged"
   ]
  },
  {
   "cell_type": "markdown",
   "metadata": {},
   "source": [
    "#### Viewing Commit History\n",
    "\n",
    "<code>git log</code> is the command used to display details of all the previous commits.\n",
    "\n",
    "<code>git log --oneline</code> is the command to display only single line details of the commits.\n",
    "\n",
    "<code>git log --oneline --reverse</code> is the command to display only single line details of the commits but in reverse order.\n",
    "\n",
    "<code>git log --oneline --stat</code> gives us the number of changes in each file in each commit made. \n",
    "\n",
    "<code>git log --oneline --patch</code> will show us the changes commited in all the files in the last commit\n",
    "\n",
    "##### Commits made by a particular author\n",
    "\n",
    "<code>git log --oneline --author=\"Pranshu\"</code>\n",
    "\n",
    "##### Commits made before, after or on date\n",
    "\n",
    "<code>git log --oneline --after=\"26/05/2021\"</code>\n",
    "<code>git log --oneline --after=\"one week ago\"</code>\n",
    "<code>git log --oneline --after=\"yesterday\"</code>\n",
    "\n",
    "##### Get commits by message\n",
    "\n",
    "<code>git log --oneline --grep=\"GUI\"</code> The text is case sensitive.\n",
    "\n",
    "##### Filtering commits by content\n",
    "\n",
    "<code>git log --oneline -S\"hello()\"</code> returns all the commits that have added or removed the function hello(). We call also \n",
    "\n",
    "<code>git log --oneline -S\"OBJECTIVES\" --patch</code> first filters all the commits that have added or removed the word OBJECTIVES and then displays the changes made as well because of the patch option.\n",
    "\n",
    "##### Get commits within a specific range\n",
    "\n",
    "<code>git log --oneline {hex_id}..{hex_id}</code>\n",
    "\n",
    "##### Get commits by file name\n",
    "\n",
    "<code>git log --oneline {file_name}</code>\n",
    "\n",
    "If the file name is ambiguous because of the oneline option in the command we can rewrite the above command as:\n",
    "\n",
    "<code>git log --oneline --{file_name}</code>\n",
    "If in such a case we wish to view the changes made in the resulting commits we need to add the patch option before the file name.\n",
    "\n",
    "<code>git log --online --patch --{file_name}</code>\n",
    "\n",
    "#### Viewing a commit\n",
    "\n",
    "<code>git show HEAD</code> shows us the commit where the HEAD is pointing to.\n",
    "\n",
    "<code>git show HEAD~{number}</code> show us the commit {number} steps away from the HEAD pointer.\n",
    " \n",
    " <code>git show HEAD~1: {file_name}</code> shows us the exact file contents or snapshot in that commit. \n",
    " \n",
    " <code>git show HEAD</code> will show only the differences in that commit.\n",
    " \n",
    " <code>git ls-tree HEAD~1</code> will show us the all the files in the directory along with their unique ids assigned by git. Then we can use these hexadecimal identifiers to see the contents of the file during that commit using code,<br>\n",
    "<code>git show 1dcc30</code> where 1dcc30 is the beginning of the unique id of the .gitignore file.\n",
    "\n",
    "<em>Note: Git contains following objects: blobs(Files), Trees(Directories), Commits and Tags.</em>\n",
    " "
   ]
  },
  {
   "cell_type": "markdown",
   "metadata": {},
   "source": [
    "#### Formatting the log output\n",
    "\n",
    "<code>git log --pretty=format:\"%an committed %H\"</code><br>\n",
    "prints a custom log commit message where %an and %H represent author and hashnumber of the commit respectively.\n",
    "- %cd - Current data\n",
    "<code>git log --pretty=format:\"%Cgreen%an%Creset committed %H\"</code><br> shows the author name in green color\n"
   ]
  },
  {
   "cell_type": "markdown",
   "metadata": {},
   "source": [
    "#### Aliases\n",
    "\n",
    "<code>git config --global alias.lg \"log --pretty=format: '%an committed %h'\"</code><br>\n",
    "This command create an alias to execute the command inside double quotes.\n",
    "\n",
    "<code>git config --global alias.unstage \"restore --staged .\"</code><br>\n",
    "creates an alias named unstage to restore staged files."
   ]
  },
  {
   "cell_type": "markdown",
   "metadata": {},
   "source": [
    "#### Unstaging files\n",
    "\n",
    "<code>git restore --staged {file_name}</code> allows us to remove files from the staging area. The restore command takes the last copy of the file from the last commit and puts it in the staging area. While doing this it removes the current modified file from the staging area."
   ]
  },
  {
   "cell_type": "markdown",
   "metadata": {},
   "source": [
    "#### Discarding local changes\n",
    "\n",
    "<code>git restore {file_name}</code> allows us to restore the last commited snapshot of the file to the working directory and remove all the uncommited changes we have made so far to the file. This step can not be performed for files that are newly added to the diretory as they have not been commited even once. \n",
    "\n",
    "<code>git restore .</code> undos all the local changes.\n",
    "\n",
    "<code>git clean -fd</code> is the command used to delete a file from the working directory."
   ]
  },
  {
   "cell_type": "markdown",
   "metadata": {},
   "source": [
    "#### Restoring a file to an earlier version\n",
    "\n",
    "We already know that once we remove a file from the working directory using the <code>git rm {file_name}</code> command we manually stage and commit the change. If after a while we realise that we want that file back then git allows us to do so using the command <code>git restore --source=HEAD~1 {file_name}</code> where we are restoring the file from the last to last commit. Git by default restores the file from the last commit but we can specify which version we wish to store."
   ]
  },
  {
   "cell_type": "markdown",
   "metadata": {},
   "source": []
  },
  {
   "cell_type": "markdown",
   "metadata": {},
   "source": []
  },
  {
   "cell_type": "markdown",
   "metadata": {},
   "source": []
  },
  {
   "cell_type": "markdown",
   "metadata": {},
   "source": []
  },
  {
   "cell_type": "markdown",
   "metadata": {},
   "source": []
  },
  {
   "cell_type": "markdown",
   "metadata": {},
   "source": []
  },
  {
   "cell_type": "markdown",
   "metadata": {},
   "source": []
  },
  {
   "cell_type": "markdown",
   "metadata": {},
   "source": []
  },
  {
   "cell_type": "markdown",
   "metadata": {},
   "source": []
  },
  {
   "cell_type": "markdown",
   "metadata": {},
   "source": []
  },
  {
   "cell_type": "markdown",
   "metadata": {},
   "source": []
  },
  {
   "cell_type": "code",
   "execution_count": 25,
   "metadata": {},
   "outputs": [],
   "source": [
    "a  = {\n",
    "    \"name\": \"pranshu\",\n",
    "    \"age\": 25\n",
    "}"
   ]
  },
  {
   "cell_type": "code",
   "execution_count": 34,
   "metadata": {},
   "outputs": [
    {
     "data": {
      "text/plain": [
       "dict_items([('name', 'pranshu'), ('age', 25)])"
      ]
     },
     "execution_count": 34,
     "metadata": {},
     "output_type": "execute_result"
    }
   ],
   "source": [
    "a.items()"
   ]
  },
  {
   "cell_type": "code",
   "execution_count": 26,
   "metadata": {},
   "outputs": [],
   "source": [
    "def func(name, age):\n",
    "    return f\"{name}, {age}\""
   ]
  },
  {
   "cell_type": "code",
   "execution_count": 28,
   "metadata": {},
   "outputs": [
    {
     "data": {
      "text/plain": [
       "'pranshu, 25'"
      ]
     },
     "execution_count": 28,
     "metadata": {},
     "output_type": "execute_result"
    }
   ],
   "source": [
    "func(**a)"
   ]
  },
  {
   "cell_type": "code",
   "execution_count": 33,
   "metadata": {},
   "outputs": [
    {
     "data": {
      "text/plain": [
       "False"
      ]
     },
     "execution_count": 33,
     "metadata": {},
     "output_type": "execute_result"
    }
   ],
   "source": [
    "3 and False"
   ]
  },
  {
   "cell_type": "code",
   "execution_count": null,
   "metadata": {},
   "outputs": [],
   "source": []
  }
 ],
 "metadata": {
  "kernelspec": {
   "display_name": "Python 3",
   "language": "python",
   "name": "python3"
  },
  "language_info": {
   "codemirror_mode": {
    "name": "ipython",
    "version": 3
   },
   "file_extension": ".py",
   "mimetype": "text/x-python",
   "name": "python",
   "nbconvert_exporter": "python",
   "pygments_lexer": "ipython3",
   "version": "3.8.5"
  },
  "toc": {
   "base_numbering": 1,
   "nav_menu": {},
   "number_sections": true,
   "sideBar": true,
   "skip_h1_title": false,
   "title_cell": "Table of Contents",
   "title_sidebar": "Contents",
   "toc_cell": false,
   "toc_position": {},
   "toc_section_display": true,
   "toc_window_display": false
  },
  "varInspector": {
   "cols": {
    "lenName": 16,
    "lenType": 16,
    "lenVar": 40
   },
   "kernels_config": {
    "python": {
     "delete_cmd_postfix": "",
     "delete_cmd_prefix": "del ",
     "library": "var_list.py",
     "varRefreshCmd": "print(var_dic_list())"
    },
    "r": {
     "delete_cmd_postfix": ") ",
     "delete_cmd_prefix": "rm(",
     "library": "var_list.r",
     "varRefreshCmd": "cat(var_dic_list()) "
    }
   },
   "types_to_exclude": [
    "module",
    "function",
    "builtin_function_or_method",
    "instance",
    "_Feature"
   ],
   "window_display": false
  }
 },
 "nbformat": 4,
 "nbformat_minor": 5
}
